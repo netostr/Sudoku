{
  "nbformat": 4,
  "nbformat_minor": 0,
  "metadata": {
    "colab": {
      "name": "sudoku.ipynb",
      "provenance": [],
      "authorship_tag": "ABX9TyOoMnUK5GXoLCu1fiC2qd+H",
      "include_colab_link": true
    },
    "kernelspec": {
      "name": "python3",
      "display_name": "Python 3"
    }
  },
  "cells": [
    {
      "cell_type": "markdown",
      "metadata": {
        "id": "view-in-github",
        "colab_type": "text"
      },
      "source": [
        "<a href=\"https://colab.research.google.com/github/netostr/Sudoku/blob/main/sudoku.ipynb\" target=\"_parent\"><img src=\"https://colab.research.google.com/assets/colab-badge.svg\" alt=\"Open In Colab\"/></a>"
      ]
    },
    {
      "cell_type": "markdown",
      "metadata": {
        "id": "hPmcX72u1_MH"
      },
      "source": [
        "Самое сложное судоку"
      ]
    },
    {
      "cell_type": "code",
      "metadata": {
        "colab": {
          "base_uri": "https://localhost:8080/",
          "height": 328
        },
        "id": "Q1SeQKcLwsOm",
        "outputId": "c7811540-3d10-4e1e-889f-f7cced948a54"
      },
      "source": [
        "import pandas as pd\r\n",
        "table = pd.DataFrame([[8, 0, 0, 0, 0, 0, 0, 0, 0],\r\n",
        "         [0, 0, 3, 6, 0, 0, 0, 0, 0],\r\n",
        "         [0, 7, 0, 0, 9, 0, 2, 0, 0],\r\n",
        "         [0, 5, 0, 0, 0, 7, 0, 0, 0],\r\n",
        "         [0, 0, 0, 0, 4, 5, 7, 0, 0],\r\n",
        "         [0, 0, 0, 1, 0, 0, 0, 3, 0],\r\n",
        "         [0, 0, 1, 0, 0, 0, 0, 6, 8],\r\n",
        "         [0, 0, 8, 5, 0, 0, 0, 1, 0],\r\n",
        "         [0, 9, 0, 0, 0, 0, 4, 0, 0]])\r\n",
        "\r\n",
        "col_iter1 = 0\r\n",
        "col_iter2 = 0\r\n",
        "table"
      ],
      "execution_count": 3,
      "outputs": [
        {
          "output_type": "execute_result",
          "data": {
            "text/html": [
              "<div>\n",
              "<style scoped>\n",
              "    .dataframe tbody tr th:only-of-type {\n",
              "        vertical-align: middle;\n",
              "    }\n",
              "\n",
              "    .dataframe tbody tr th {\n",
              "        vertical-align: top;\n",
              "    }\n",
              "\n",
              "    .dataframe thead th {\n",
              "        text-align: right;\n",
              "    }\n",
              "</style>\n",
              "<table border=\"1\" class=\"dataframe\">\n",
              "  <thead>\n",
              "    <tr style=\"text-align: right;\">\n",
              "      <th></th>\n",
              "      <th>0</th>\n",
              "      <th>1</th>\n",
              "      <th>2</th>\n",
              "      <th>3</th>\n",
              "      <th>4</th>\n",
              "      <th>5</th>\n",
              "      <th>6</th>\n",
              "      <th>7</th>\n",
              "      <th>8</th>\n",
              "    </tr>\n",
              "  </thead>\n",
              "  <tbody>\n",
              "    <tr>\n",
              "      <th>0</th>\n",
              "      <td>8</td>\n",
              "      <td>0</td>\n",
              "      <td>0</td>\n",
              "      <td>0</td>\n",
              "      <td>0</td>\n",
              "      <td>0</td>\n",
              "      <td>0</td>\n",
              "      <td>0</td>\n",
              "      <td>0</td>\n",
              "    </tr>\n",
              "    <tr>\n",
              "      <th>1</th>\n",
              "      <td>0</td>\n",
              "      <td>0</td>\n",
              "      <td>3</td>\n",
              "      <td>6</td>\n",
              "      <td>0</td>\n",
              "      <td>0</td>\n",
              "      <td>0</td>\n",
              "      <td>0</td>\n",
              "      <td>0</td>\n",
              "    </tr>\n",
              "    <tr>\n",
              "      <th>2</th>\n",
              "      <td>0</td>\n",
              "      <td>7</td>\n",
              "      <td>0</td>\n",
              "      <td>0</td>\n",
              "      <td>9</td>\n",
              "      <td>0</td>\n",
              "      <td>2</td>\n",
              "      <td>0</td>\n",
              "      <td>0</td>\n",
              "    </tr>\n",
              "    <tr>\n",
              "      <th>3</th>\n",
              "      <td>0</td>\n",
              "      <td>5</td>\n",
              "      <td>0</td>\n",
              "      <td>0</td>\n",
              "      <td>0</td>\n",
              "      <td>7</td>\n",
              "      <td>0</td>\n",
              "      <td>0</td>\n",
              "      <td>0</td>\n",
              "    </tr>\n",
              "    <tr>\n",
              "      <th>4</th>\n",
              "      <td>0</td>\n",
              "      <td>0</td>\n",
              "      <td>0</td>\n",
              "      <td>0</td>\n",
              "      <td>4</td>\n",
              "      <td>5</td>\n",
              "      <td>7</td>\n",
              "      <td>0</td>\n",
              "      <td>0</td>\n",
              "    </tr>\n",
              "    <tr>\n",
              "      <th>5</th>\n",
              "      <td>0</td>\n",
              "      <td>0</td>\n",
              "      <td>0</td>\n",
              "      <td>1</td>\n",
              "      <td>0</td>\n",
              "      <td>0</td>\n",
              "      <td>0</td>\n",
              "      <td>3</td>\n",
              "      <td>0</td>\n",
              "    </tr>\n",
              "    <tr>\n",
              "      <th>6</th>\n",
              "      <td>0</td>\n",
              "      <td>0</td>\n",
              "      <td>1</td>\n",
              "      <td>0</td>\n",
              "      <td>0</td>\n",
              "      <td>0</td>\n",
              "      <td>0</td>\n",
              "      <td>6</td>\n",
              "      <td>8</td>\n",
              "    </tr>\n",
              "    <tr>\n",
              "      <th>7</th>\n",
              "      <td>0</td>\n",
              "      <td>0</td>\n",
              "      <td>8</td>\n",
              "      <td>5</td>\n",
              "      <td>0</td>\n",
              "      <td>0</td>\n",
              "      <td>0</td>\n",
              "      <td>1</td>\n",
              "      <td>0</td>\n",
              "    </tr>\n",
              "    <tr>\n",
              "      <th>8</th>\n",
              "      <td>0</td>\n",
              "      <td>9</td>\n",
              "      <td>0</td>\n",
              "      <td>0</td>\n",
              "      <td>0</td>\n",
              "      <td>0</td>\n",
              "      <td>4</td>\n",
              "      <td>0</td>\n",
              "      <td>0</td>\n",
              "    </tr>\n",
              "  </tbody>\n",
              "</table>\n",
              "</div>"
            ],
            "text/plain": [
              "   0  1  2  3  4  5  6  7  8\n",
              "0  8  0  0  0  0  0  0  0  0\n",
              "1  0  0  3  6  0  0  0  0  0\n",
              "2  0  7  0  0  9  0  2  0  0\n",
              "3  0  5  0  0  0  7  0  0  0\n",
              "4  0  0  0  0  4  5  7  0  0\n",
              "5  0  0  0  1  0  0  0  3  0\n",
              "6  0  0  1  0  0  0  0  6  8\n",
              "7  0  0  8  5  0  0  0  1  0\n",
              "8  0  9  0  0  0  0  4  0  0"
            ]
          },
          "metadata": {
            "tags": []
          },
          "execution_count": 3
        }
      ]
    },
    {
      "cell_type": "code",
      "metadata": {
        "id": "LW1GwfrszcXV"
      },
      "source": [
        "def research():\r\n",
        "  global table, col_iter1, col_iter2\r\n",
        "  for y in range(9):\r\n",
        "    for x in range(9):\r\n",
        "      if table.iloc[y,x] == 0:\r\n",
        "        for n in range(1,10):\r\n",
        "          x0 = x // 3 * 3\r\n",
        "          y0 = y // 3 * 3\r\n",
        "          if n not in table.iloc[y].tolist() and n not in table.iloc[:,x].tolist() and n not in sum(table.iloc[y0:y0+3, x0:x0+3].values.tolist(),[]):\r\n",
        "             table.iloc[y,x] = n\r\n",
        "             col_iter1 += 1\r\n",
        "             research()\r\n",
        "             table.iloc[y,x] = 0\r\n",
        "          col_iter2 += 1\r\n",
        "        return\r\n",
        "  print(table)\r\n",
        "  print(col_iter1)\r\n",
        "  print(col_iter2)\r\n",
        "        "
      ],
      "execution_count": 4,
      "outputs": []
    },
    {
      "cell_type": "code",
      "metadata": {
        "id": "h8Kzn-4i4rrr",
        "colab": {
          "base_uri": "https://localhost:8080/"
        },
        "outputId": "679dc723-12d7-410b-9378-b3775def563b"
      },
      "source": [
        "research()"
      ],
      "execution_count": null,
      "outputs": [
        {
          "output_type": "stream",
          "text": [
            "   0  1  2  3  4  5  6  7  8\n",
            "0  8  1  2  7  5  3  6  4  9\n",
            "1  9  4  3  6  8  2  1  7  5\n",
            "2  6  7  5  4  9  1  2  8  3\n",
            "3  1  5  4  2  3  7  8  9  6\n",
            "4  3  6  9  8  4  5  7  2  1\n",
            "5  2  8  7  1  6  9  5  3  4\n",
            "6  5  2  1  9  7  4  3  6  8\n",
            "7  4  3  8  5  2  6  9  1  7\n",
            "8  7  9  6  3  1  8  4  5  2\n",
            "49558\n",
            "445718\n"
          ],
          "name": "stdout"
        }
      ]
    }
  ]
}